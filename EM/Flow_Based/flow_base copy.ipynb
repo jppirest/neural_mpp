{
 "cells": [
  {
   "cell_type": "code",
   "execution_count": 1,
   "metadata": {},
   "outputs": [],
   "source": [
    "import numpy as np\n",
    "import matplotlib.pyplot as plt\n",
    "\n",
    "\n",
    "np.random.seed(42)\n",
    "\n",
    "n_points = 600\n",
    "time = np.arange(n_points)\n",
    "\n",
    "\n",
    "X1 = np.random.binomial(1, 0.6, n_points)\n",
    "X2 = np.zeros(n_points)\n",
    "X3 = np.zeros(n_points)\n",
    "\n",
    "\n",
    "for t in range(1, n_points):\n",
    "    # X2 is more likely to happen if X1 happened in the previous step\n",
    "    X2[t] = np.random.binomial(1, 0.5 * X1[t-1] + 0.2)\n",
    "    # X3 is more likely to happen if X2 happened in the previous step\n",
    "    X3[t] = np.random.binomial(1, 0.7 * X2[t-1] + 0.2)\n",
    "\n",
    "\n",
    "\n",
    "X1 = [time[i] for i in range(len(X1)) if X1[i] > 0]\n",
    "X2 = [time[i] + 0.1 for i in range(len(X2)) if X2[i] > 0]\n",
    "X3 = [time[i] + 0.2 for i in range(len(X3)) if X3[i] > 0]"
   ]
  },
  {
   "cell_type": "code",
   "execution_count": 29,
   "metadata": {},
   "outputs": [
    {
     "data": {
      "image/png": "[encoded data removed]",
      "text/plain": [
       "<Figure size 640x480 with 3 Axes>"
      ]
     },
     "metadata": {},
     "output_type": "display_data"
    }
   ],
   "source": [
    "def _plot_tick_bars(timestamps_i, ax, color):\n",
    "    for t in timestamps_i:\n",
    "        ax.axvline(x=t, color = color)\n",
    "    # ax.set_title(label, fontsize=20)\n",
    "    ax.get_yaxis().set_visible(False)\n",
    "def _plot_tick_bars_causes(timestamps_i, ax, cause):\n",
    "    colors = ['red', 'green', 'blue']\n",
    "    for idx, t in enumerate(timestamps_i):\n",
    "        cause_ = torch.argmax(cause[idx]).item()\n",
    "        ax.axvline(x=t, color = colors[cause_])\n",
    "    ax.get_yaxis().set_visible(False)\n",
    "\n",
    "fig, ax = plt.subplots(nrows = 3, sharex = True)\n",
    "\n",
    "_plot_tick_bars(X1, ax[0], color = 'red')\n",
    "_plot_tick_bars(X2, ax[1], color = 'green')\n",
    "_plot_tick_bars(X3, ax[2], color = 'blue')"
   ]
  },
  {
   "cell_type": "code",
   "execution_count": 30,
   "metadata": {},
   "outputs": [],
   "source": [
    "import torch\n",
    "import torch.nn as nn\n",
    "import torch.nn.functional as F\n",
    "# from torch.nn.utils.rnn import pad_sequence\n",
    "from torch.utils.data import DataLoader\n",
    "\n",
    "if torch.cuda.is_available():\n",
    "    torch.set_default_tensor_type(\"torch.cuda.FloatTensor\")\n",
    "    device = \"cuda\"\n",
    "else:\n",
    "    torch.set_default_tensor_type(\"torch.FloatTensor\")\n",
    "    device = \"cpu\"\n"
   ]
  },
  {
   "cell_type": "code",
   "execution_count": 42,
   "metadata": {},
   "outputs": [
    {
     "data": {
      "text/plain": [
       "torch.Size([10, 4, 2])"
      ]
     },
     "execution_count": 42,
     "metadata": {},
     "output_type": "execute_result"
    }
   ],
   "source": [
    "class CustomNet(nn.Module):\n",
    "    def __init__(self, num_features, hidden_dim):\n",
    "        super().__init__()\n",
    "        \n",
    "        self.embd = nn.Sequential(\n",
    "            nn.Linear(num_features, hidden_dim),\n",
    "            nn.Tanh())\n",
    "        \n",
    "        self.rnn = nn.GRU(input_size = hidden_dim, hidden_size = int(2*hidden_dim), num_layers = 2, batch_first = True)\n",
    "        self.fc = nn.Linear(int(2*hidden_dim), 2*num_features)\n",
    "\n",
    "    def forward(self, x):\n",
    "        \n",
    "        \n",
    "        x = self.embd(x) #(10, 4, 1) -> (10, 4, 32)\n",
    "        \n",
    "        x, _ = self.rnn(x) # (10, 4, 32) -> (10, 4, 64)\n",
    "        \n",
    "\n",
    "        x = self.fc(x) # (10, 4, 32) -> (10, 4, 2)\n",
    "\n",
    "        return x\n",
    "\n",
    "model = CustomNet(num_features=1, hidden_dim=32)\n",
    "\n",
    "x = torch.rand(size = (10, 4, 1))\n",
    "\n",
    "model(x).shape"
   ]
  },
  {
   "cell_type": "code",
   "execution_count": 62,
   "metadata": {},
   "outputs": [],
   "source": [
    "coupling_ = NFBlock(num_features=1, hidden_dim=32, memory_size = 4)\n",
    "\n",
    "# coupling_(x)[0]"
   ]
  },
  {
   "cell_type": "code",
   "execution_count": 63,
   "metadata": {},
   "outputs": [],
   "source": [
    "from torch.distributions import Normal \n",
    "\n",
    "\n",
    "class AffineCouplingLayer(nn.Module):\n",
    "    def __init__(self, num_features, hidden_dim, memory_size):\n",
    "        super(AffineCouplingLayer, self).__init__()\n",
    "        \n",
    "        self.net = CustomNet(num_features=num_features, hidden_dim=hidden_dim)\n",
    "        self.memory_size = memory_size\n",
    "    def forward(self, x):\n",
    "        mask = torch.zeros(size = (1, self.memory_size, 1))\n",
    "        mask[:, :self.memory_size//2, :] = 1\n",
    "        x1 = x*mask\n",
    "        x2 = x*(1-mask)\n",
    "        params = self.net(x1)\n",
    "\n",
    "        shift, log_scale = params.chunk(2, dim=-1)\n",
    "        shift = shift*(1-mask)\n",
    "        log_scale = log_scale*(1-mask)\n",
    "\n",
    "        z = (x + shift)*torch.exp(log_scale)\n",
    "        log_det_jacobian = log_scale.sum(dim=(1,2))\n",
    "        \n",
    "        \n",
    "        return z, log_det_jacobian\n",
    "\n",
    "    def inverse(self, z):\n",
    "        raise NotImplemented\n",
    "        # z1, z2 = z.chunk(2, dim=1)\n",
    "        # params = self.net(z1)\n",
    "        # shift, log_scale = params.chunk(2, dim=1)\n",
    "        # x2 = z2 * torch.exp(log_scale) + shift\n",
    "        # x = torch.cat([z1, x2], dim=1)\n",
    "        \n",
    "        # return x\n",
    "\n",
    "class InvConv1D(nn.Module):\n",
    "    def __init__(self, num_features):\n",
    "        super().__init__()\n",
    "        # Initialize an orthogonal matrix for 1x1 convolution in 1D\n",
    "        w_init, _ = torch.linalg.qr(torch.randn(num_features, num_features))\n",
    "        #w_init = torch.tensor(w_init)\n",
    "\n",
    "        self.register_buffer('w', w_init)\n",
    "        self.w_inverse = None\n",
    "\n",
    "    def forward(self, x):\n",
    "        # x is of shape (batch_size, num_features)\n",
    "        # Apply the learned 1x1 convolution (linear transformation)\n",
    "        z = self.w @ x  # Matrix multiplication for 1D\n",
    "\n",
    "        # Compute log determinant of the Jacobian for the flow\n",
    "        log_det_jacobian = torch.slogdet(self.w)[1]\n",
    "        \n",
    "        return z, log_det_jacobian\n",
    "\n",
    "    def inverse(self, z):\n",
    "        if self.w_inverse is None:\n",
    "            self.w_inverse = torch.inverse(self.w)\n",
    "        x = self.w_inverse @ z\n",
    "        \n",
    "        return x\n",
    "\n",
    "\n",
    "\n",
    "class NFBlock(nn.Module):\n",
    "    def __init__(self, num_features, hidden_dim, memory_size):\n",
    "        super().__init__()\n",
    "        self.invertible_conv = InvConv1D(memory_size)\n",
    "        self.affine_coupling = AffineCouplingLayer(num_features = num_features, hidden_dim = hidden_dim, memory_size = memory_size)\n",
    "\n",
    "    def forward(self, x):\n",
    "        z, log_det_jacobian_conv = self.invertible_conv(x)\n",
    "        \n",
    "        z, log_det_jacobian_affine = self.affine_coupling(z)\n",
    "        \n",
    "        log_det_jacobian = log_det_jacobian_conv + log_det_jacobian_affine\n",
    "        \n",
    "        return z, log_det_jacobian\n",
    "\n",
    "    def inverse(self, z):\n",
    "        x = self.affine_coupling.inverse(z)\n",
    "        x = self.invertible_conv.inverse(x)\n",
    "        \n",
    "        return x\n",
    "\n",
    "\n",
    "\n",
    "class NormalizingFlow(nn.Module):\n",
    "    def __init__(self, num_features, memory_size, hidden_dim, num_layers):\n",
    "        super(NormalizingFlow, self).__init__()\n",
    "        self.num_features = num_features\n",
    "        self.memory_size = memory_size\n",
    "        self.hidden_dim = hidden_dim\n",
    "        self.num_layers = num_layers\n",
    "        self.base_dist = Normal(0, 1)\n",
    "        self.blocks = nn.ModuleList(\n",
    "            [NFBlock(num_features = num_features, memory_size = memory_size, hidden_dim = hidden_dim) for _ in range(num_layers)]\n",
    "        )\n",
    "        \n",
    "    \n",
    "    def forward(self, x):\n",
    "        log_det_jacobian = 0\n",
    "        \n",
    "        for layer in self.blocks:\n",
    "            x, ldj = layer(x)\n",
    "            log_det_jacobian += ldj\n",
    "        \n",
    "        return x, log_det_jacobian\n",
    "\n",
    "    def inverse(self, z):\n",
    "        for layer in reversed(self.blocks):\n",
    "            z = layer.inverse(z)\n",
    "        return z\n",
    "\n",
    "\n",
    "    def log_prob(self, x):\n",
    "        z, ldj = self.forward(x)\n",
    "        log_pz = self.base_dist.log_prob(z).sum(dim = (1,2))\n",
    "        log_px = log_pz + ldj\n",
    "\n",
    "        return z, log_px\n",
    "\n"
   ]
  },
  {
   "cell_type": "code",
   "execution_count": 69,
   "metadata": {},
   "outputs": [
    {
     "data": {
      "text/plain": [
       "torch.Size([10, 4, 1])"
      ]
     },
     "execution_count": 69,
     "metadata": {},
     "output_type": "execute_result"
    }
   ],
   "source": [
    "model = NormalizingFlow(memory_size=4, num_features=1, hidden_dim = 64, num_layers=3)\n",
    "# model = CustomNet(num_features=1, hidden_dim=32, memory_dim = 4)\n",
    "\n",
    "x = torch.rand(size = (10, 4, 1))\n",
    "\n",
    "model(x)[0].shape"
   ]
  },
  {
   "cell_type": "code",
   "execution_count": 79,
   "metadata": {},
   "outputs": [],
   "source": [
    "class GrangerMPP(nn.Module):\n",
    "\n",
    "    def __init__(self, processes, memory_dim : int = 10):\n",
    "\n",
    "        super().__init__()\n",
    "\n",
    "        self.processes = processes\n",
    "        self.memory_dim = memory_dim\n",
    "        self.n_processes = len(self.processes)\n",
    "\n",
    "        self.GrangerMatrix = nn.Parameter((torch.empty(self.n_processes, self.n_processes)))\n",
    "        nn.init.normal_(self.GrangerMatrix, mean=0.5, std=0.1) # very important\n",
    "\n",
    "        self.models = nn.ModuleList([NormalizingFlow(num_features = 1, memory_size = self.memory_dim, hidden_dim = 32, num_layers = 4) for i in range(self.n_processes)])\n",
    "        self.sweep_dict = self.make_sweep_dict()\n",
    "        self.time_of_start = self.get_time_of_start()\n",
    "        self.optimizers = [torch.optim.Adam(list(self.models[i].parameters()), lr=1e-4, weight_decay = 1e-5) for i in range(self.n_processes)]\n",
    "        self.g_optimizer = torch.optim.Adam([self.GrangerMatrix], lr = 1e-3, weight_decay=1e-5)\n",
    "        self.log_GrangerMatrix = []\n",
    "\n",
    "\n",
    "    def em_step(self, n_steps):\n",
    "        \n",
    "        dic = {}\n",
    "        self.causes = [[], [], []]\n",
    "        for i in range(self.n_processes):\n",
    "            dic[i] = []\n",
    "\n",
    "\n",
    "        taus = torch.linspace(1, 0.5, steps = n_steps)#\n",
    "        \n",
    "        for self.step in range(n_steps):\n",
    "          for i_proc in range(self.n_processes):\n",
    "              self.causes[i_proc] = []\n",
    "              curr = processes[i_proc]\n",
    "              len_curr = len(curr)\n",
    "              idx_start = 0\n",
    "              while idx_start < len_curr:\n",
    "                self.num_events = 5\n",
    "                events = self.get_events(self.num_events, idx_start, i_proc, 1.0) ## the get_events does the e_step!\n",
    "                if events:\n",
    "                  DL = DataLoader(events, batch_size = len(events))\n",
    "\n",
    "                  for X, cause_rank in DL:\n",
    "                    X = X.unsqueeze(-1)\n",
    "                    loss = self.m_step(i_proc, X, cause_rank)\n",
    "                    dic[i_proc].append(loss)\n",
    "\n",
    "                idx_start += self.num_events\n",
    "\n",
    "              if (self.step + 1) % 5 == 0 or self.step == 0:\n",
    "                  print(f'Step: {self.step + 1}, Model: {i_proc}, Loss: {loss}')\n",
    "\n",
    "\n",
    "        return dic\n",
    "\n",
    "    def m_step(self, i_proc, X, cause_rank):\n",
    "\n",
    "        model = self.models[i_proc]\n",
    "        self.optimizers[i_proc].zero_grad()\n",
    "        self.g_optimizer.zero_grad()\n",
    "        z, logp = model.log_prob(X)\n",
    "        loss = -1*logp\n",
    "\n",
    "        loss_rnn = (loss * cause_rank).sum()  + -1*(torch.log(cause_rank + 1e-7)).sum() + 0.001*self.GrangerMatrix[i_proc].norm(p=1)\n",
    "\n",
    "\n",
    "        if not (torch.isnan(loss_rnn) | torch.isinf(loss_rnn)):\n",
    "\n",
    "\n",
    "            loss_rnn.backward(retain_graph = True)\n",
    "\n",
    "            self.optimizers[i_proc].step()\n",
    "            self.g_optimizer.step()\n",
    "            self.log_GrangerMatrix.append(self.GrangerMatrix.clone().detach())\n",
    "\n",
    "\n",
    "        else:\n",
    "            print(f'NaN found in epoch: {self.step}')\n",
    "\n",
    "        return loss_rnn.item()\n",
    "\n",
    "    def make_sweep_dict(self):\n",
    "\n",
    "        dic = {}\n",
    "        for i in range(self.n_processes):\n",
    "            target = self.processes[i]\n",
    "            dic[i] = {}\n",
    "            for j in range(self.n_processes):\n",
    "                cause = self.processes[j]\n",
    "                dic[i][j] = self.sweep(target, cause)\n",
    "\n",
    "        return dic\n",
    "\n",
    "\n",
    "    def sweep(self, pa, pc):\n",
    "        events = []\n",
    "        pa_indices = []\n",
    "\n",
    "\n",
    "        for i, ia in enumerate(pa):\n",
    "            events.append((ia, 'a'))\n",
    "            pa_indices.append(i)\n",
    "\n",
    "        for ic in pc:\n",
    "            events.append((ic, 'c'))\n",
    "\n",
    "        lim = self.memory_dim\n",
    "\n",
    "        events.sort()\n",
    "        mem = []\n",
    "        ret = []\n",
    "        index_start = False\n",
    "\n",
    "        pa_idx_counter = 0  # Counter to track which index in pa we are at\n",
    "\n",
    "        for t, e in events:\n",
    "            if e == 'c':\n",
    "                if len(mem) >= lim:\n",
    "                    mem.pop(0)\n",
    "                mem.append(t)\n",
    "\n",
    "            if e == 'a':\n",
    "                # Memory is not full yet\n",
    "                if len(mem) < lim:\n",
    "                    pa_idx_counter += 1  # Move to the next pa index\n",
    "                    continue\n",
    "                # Retrieve deltas from this time to the cause times\n",
    "                pp = [t - tc for tc in mem]\n",
    "                ret.append(pp)\n",
    "                if not index_start:\n",
    "                  index_start = pa_indices[pa_idx_counter] # Save index relative to pa\n",
    "                pa_idx_counter += 1  # Move to the next pa index\n",
    "        if not index_start:\n",
    "          index_start = -1\n",
    "        return torch.tensor(ret, dtype=torch.float), index_start\n",
    "\n",
    "    def get_time_of_start(self):\n",
    "\n",
    "      indexs = []\n",
    "      dic = self.sweep_dict\n",
    "\n",
    "      for i in dic:\n",
    "        curr = []\n",
    "        for j in dic[i]:\n",
    "          curr.append(dic[i][j][1])\n",
    "        indexs.append(curr)\n",
    "\n",
    "      return indexs\n",
    "\n",
    "\n",
    "    def new_e_step(self, num_events, i_proc, tau):\n",
    "\n",
    "      in_ = self.GrangerMatrix[i_proc]#.softmax(dim = 0)\n",
    "      rv = []\n",
    "      for i in range(num_events):\n",
    "        cause = F.gumbel_softmax(\n",
    "            in_,\n",
    "            tau = tau,\n",
    "            hard = False\n",
    "        )\n",
    "        rv.append(cause)\n",
    "\n",
    "      self.causes[i_proc].append(rv)\n",
    "\n",
    "      return rv\n",
    "\n",
    "\n",
    "    def get_events(self, num_events, idx_start, i_proc, tau):\n",
    "\n",
    "      begin_of_influences = self.time_of_start[i_proc]\n",
    "      n_causes = self.new_e_step(num_events, i_proc, tau)\n",
    "\n",
    "      event_cause = []\n",
    "\n",
    "      for time in range(num_events):\n",
    "        causes = n_causes[time]\n",
    "\n",
    "        for idx_cause, cause in enumerate(causes):\n",
    "          inf_begin = begin_of_influences[idx_cause]\n",
    "\n",
    "          if inf_begin == -1: ## this process cannot be caused by this other process (it started after the current process ended)\n",
    "            continue\n",
    "\n",
    "          else:\n",
    "            if time + idx_start >= inf_begin and len(self.sweep_dict[i_proc][idx_cause][0]) > time + idx_start + inf_begin: ## checking if the current_timestamp could be cause by the process and if there's events pass this time\n",
    "              app = (self.sweep_dict[i_proc][idx_cause][0][time + idx_start - inf_begin], cause)\n",
    "              event_cause.append(app)\n",
    "\n",
    "      return event_cause\n",
    "\n"
   ]
  },
  {
   "cell_type": "code",
   "execution_count": 80,
   "metadata": {},
   "outputs": [],
   "source": [
    "X1_ = torch.tensor(X1.copy(), dtype = torch.float32)\n",
    "X2_ = torch.tensor(X2.copy(), dtype = torch.float32)\n",
    "X3_ = torch.tensor(X3.copy(), dtype = torch.float32)\n",
    "processes = [X1_, X2_, X3_]"
   ]
  },
  {
   "cell_type": "code",
   "execution_count": 81,
   "metadata": {},
   "outputs": [
    {
     "name": "stdout",
     "output_type": "stream",
     "text": [
      "Step: 1, Model: 0, Loss: 3.230762004852295\n",
      "Step: 1, Model: 1, Loss: 7.036431789398193\n",
      "Step: 1, Model: 2, Loss: 5.593333721160889\n",
      "Step: 5, Model: 0, Loss: 4.4627227783203125\n",
      "Step: 5, Model: 1, Loss: 6.570101737976074\n",
      "Step: 5, Model: 2, Loss: 3.2197797298431396\n",
      "Step: 10, Model: 0, Loss: 3.2939653396606445\n",
      "Step: 10, Model: 1, Loss: 6.67199182510376\n",
      "Step: 10, Model: 2, Loss: 4.139893054962158\n",
      "Step: 15, Model: 0, Loss: 2.972224712371826\n",
      "Step: 15, Model: 1, Loss: 8.785547256469727\n",
      "Step: 15, Model: 2, Loss: 4.817923069000244\n",
      "Step: 20, Model: 0, Loss: 4.563640117645264\n",
      "Step: 20, Model: 1, Loss: 5.890956878662109\n",
      "Step: 20, Model: 2, Loss: 3.6408960819244385\n",
      "Step: 25, Model: 0, Loss: 3.029003381729126\n",
      "Step: 25, Model: 1, Loss: 6.428956508636475\n",
      "Step: 25, Model: 2, Loss: 2.7498672008514404\n",
      "Step: 30, Model: 0, Loss: 2.7275729179382324\n",
      "Step: 30, Model: 1, Loss: 5.6038384437561035\n",
      "Step: 30, Model: 2, Loss: 3.1044259071350098\n",
      "Step: 35, Model: 0, Loss: 2.679438352584839\n",
      "Step: 35, Model: 1, Loss: 5.717808723449707\n",
      "Step: 35, Model: 2, Loss: 3.1888365745544434\n",
      "Step: 40, Model: 0, Loss: 2.90203857421875\n",
      "Step: 40, Model: 1, Loss: 7.431859016418457\n",
      "Step: 40, Model: 2, Loss: 4.429843425750732\n",
      "Step: 45, Model: 0, Loss: 2.8863637447357178\n",
      "Step: 45, Model: 1, Loss: 4.50173282623291\n",
      "Step: 45, Model: 2, Loss: 2.98634672164917\n",
      "Step: 50, Model: 0, Loss: 4.567049026489258\n",
      "Step: 50, Model: 1, Loss: 3.8742756843566895\n",
      "Step: 50, Model: 2, Loss: 3.245487689971924\n",
      "Step: 55, Model: 0, Loss: 5.475121021270752\n",
      "Step: 55, Model: 1, Loss: 4.3396196365356445\n",
      "Step: 55, Model: 2, Loss: 4.382544994354248\n",
      "Step: 60, Model: 0, Loss: 2.6477067470550537\n",
      "Step: 60, Model: 1, Loss: 4.558101654052734\n",
      "Step: 60, Model: 2, Loss: 2.689739465713501\n",
      "Step: 65, Model: 0, Loss: 2.6453912258148193\n",
      "Step: 65, Model: 1, Loss: 5.485842227935791\n",
      "Step: 65, Model: 2, Loss: 4.132916450500488\n",
      "Step: 70, Model: 0, Loss: 3.763563394546509\n",
      "Step: 70, Model: 1, Loss: 6.815308570861816\n",
      "Step: 70, Model: 2, Loss: 2.89701771736145\n",
      "Step: 75, Model: 0, Loss: 2.665971517562866\n",
      "Step: 75, Model: 1, Loss: 1.655365228652954\n",
      "Step: 75, Model: 2, Loss: 3.846451997756958\n",
      "Step: 80, Model: 0, Loss: 2.7690629959106445\n",
      "Step: 80, Model: 1, Loss: 3.064030408859253\n",
      "Step: 80, Model: 2, Loss: 3.3620927333831787\n",
      "Step: 85, Model: 0, Loss: 3.527216911315918\n",
      "Step: 85, Model: 1, Loss: 4.7076334953308105\n",
      "Step: 85, Model: 2, Loss: 2.7641162872314453\n",
      "Step: 90, Model: 0, Loss: 2.830703020095825\n",
      "Step: 90, Model: 1, Loss: 2.6591391563415527\n",
      "Step: 90, Model: 2, Loss: 3.028524160385132\n",
      "Step: 95, Model: 0, Loss: 2.8418173789978027\n",
      "Step: 95, Model: 1, Loss: 2.7532310485839844\n",
      "Step: 95, Model: 2, Loss: 4.3559889793396\n",
      "Step: 100, Model: 0, Loss: 3.014864206314087\n",
      "Step: 100, Model: 1, Loss: -0.8583726286888123\n",
      "Step: 100, Model: 2, Loss: 3.3210439682006836\n",
      "Step: 105, Model: 0, Loss: 3.593068838119507\n",
      "Step: 105, Model: 1, Loss: 6.567934989929199\n",
      "Step: 105, Model: 2, Loss: 2.679813861846924\n",
      "Step: 110, Model: 0, Loss: 3.9407551288604736\n",
      "Step: 110, Model: 1, Loss: 0.23433826863765717\n",
      "Step: 110, Model: 2, Loss: 2.7677841186523438\n",
      "Step: 115, Model: 0, Loss: 2.90848970413208\n",
      "Step: 115, Model: 1, Loss: 5.598834037780762\n",
      "Step: 115, Model: 2, Loss: 2.6615498065948486\n",
      "Step: 120, Model: 0, Loss: 2.888679265975952\n",
      "Step: 120, Model: 1, Loss: 2.4130361080169678\n",
      "Step: 120, Model: 2, Loss: 4.2361016273498535\n",
      "Step: 125, Model: 0, Loss: 2.75907826423645\n",
      "Step: 125, Model: 1, Loss: 2.7243621349334717\n",
      "Step: 125, Model: 2, Loss: 2.8900856971740723\n",
      "Step: 130, Model: 0, Loss: 2.644136667251587\n",
      "Step: 130, Model: 1, Loss: 0.13153813779354095\n",
      "Step: 130, Model: 2, Loss: 2.6739954948425293\n",
      "Step: 135, Model: 0, Loss: 3.153944492340088\n",
      "Step: 135, Model: 1, Loss: -0.6005223989486694\n",
      "Step: 135, Model: 2, Loss: 2.9929757118225098\n",
      "Step: 140, Model: 0, Loss: 2.528731107711792\n",
      "Step: 140, Model: 1, Loss: 0.2802135944366455\n",
      "Step: 140, Model: 2, Loss: 4.837743759155273\n",
      "Step: 145, Model: 0, Loss: 2.692058801651001\n",
      "Step: 145, Model: 1, Loss: 7.45750617980957\n",
      "Step: 145, Model: 2, Loss: 2.7568461894989014\n",
      "Step: 150, Model: 0, Loss: 3.2902002334594727\n",
      "Step: 150, Model: 1, Loss: -0.436835914850235\n",
      "Step: 150, Model: 2, Loss: 2.7561604976654053\n",
      "Step: 155, Model: 0, Loss: 3.2258152961730957\n",
      "Step: 155, Model: 1, Loss: 6.448038578033447\n",
      "Step: 155, Model: 2, Loss: 3.0437395572662354\n",
      "Step: 160, Model: 0, Loss: 2.7014846801757812\n",
      "Step: 160, Model: 1, Loss: 7.112271785736084\n",
      "Step: 160, Model: 2, Loss: 5.893803596496582\n",
      "Step: 165, Model: 0, Loss: 2.938593626022339\n",
      "Step: 165, Model: 1, Loss: 3.2849836349487305\n",
      "Step: 165, Model: 2, Loss: 3.791511058807373\n",
      "Step: 170, Model: 0, Loss: 3.0673723220825195\n",
      "Step: 170, Model: 1, Loss: 3.4725170135498047\n",
      "Step: 170, Model: 2, Loss: 4.420693397521973\n",
      "Step: 175, Model: 0, Loss: 2.656524419784546\n",
      "Step: 175, Model: 1, Loss: 2.603316068649292\n",
      "Step: 175, Model: 2, Loss: 2.6572978496551514\n",
      "Step: 180, Model: 0, Loss: 2.7331535816192627\n",
      "Step: 180, Model: 1, Loss: 1.533785104751587\n",
      "Step: 180, Model: 2, Loss: 2.968818187713623\n",
      "Step: 185, Model: 0, Loss: 3.577566146850586\n",
      "Step: 185, Model: 1, Loss: 5.539889335632324\n",
      "Step: 185, Model: 2, Loss: 3.152106285095215\n",
      "Step: 190, Model: 0, Loss: 4.63991641998291\n",
      "Step: 190, Model: 1, Loss: 3.047400712966919\n",
      "Step: 190, Model: 2, Loss: 2.931946277618408\n",
      "Step: 195, Model: 0, Loss: 3.2795581817626953\n",
      "Step: 195, Model: 1, Loss: 5.39916467666626\n",
      "Step: 195, Model: 2, Loss: 4.271852016448975\n",
      "Step: 200, Model: 0, Loss: 2.9236326217651367\n",
      "Step: 200, Model: 1, Loss: 5.843989849090576\n",
      "Step: 200, Model: 2, Loss: 3.0205981731414795\n"
     ]
    }
   ],
   "source": [
    "mpp = GrangerMPP(processes, memory_dim = 4)\n",
    "l = mpp.em_step(n_steps = 200)"
   ]
  },
  {
   "cell_type": "code",
   "execution_count": 82,
   "metadata": {},
   "outputs": [
    {
     "name": "stdout",
     "output_type": "stream",
     "text": [
      "Len of losses: [13800, 12000, 13200]\n"
     ]
    },
    {
     "data": {
      "image/png": "[encoded data removed]",
      "text/plain": [
       "<Figure size 640x480 with 1 Axes>"
      ]
     },
     "metadata": {},
     "output_type": "display_data"
    }
   ],
   "source": [
    "colors = ['red', 'green', 'blue']\n",
    "for i in range(3):\n",
    "    plt.plot(l[i], color = colors[i])\n",
    "\n",
    "t = [len(l[i]) for i in range(3)]\n",
    "\n",
    "print(f'Len of losses: {t}')"
   ]
  },
  {
   "cell_type": "code",
   "execution_count": 99,
   "metadata": {},
   "outputs": [],
   "source": [
    "# mpp.models"
   ]
  },
  {
   "cell_type": "code",
   "execution_count": 83,
   "metadata": {},
   "outputs": [
    {
     "data": {
      "text/plain": [
       "<matplotlib.colorbar.Colorbar at 0x7f3c80d2d450>"
      ]
     },
     "execution_count": 83,
     "metadata": {},
     "output_type": "execute_result"
    },
    {
     "data": {
      "image/png": "[encoded data removed]",
      "text/plain": [
       "<Figure size 640x480 with 2 Axes>"
      ]
     },
     "metadata": {},
     "output_type": "display_data"
    }
   ],
   "source": [
    "matrix = mpp.GrangerMatrix.softmax(dim = 1).detach().cpu().numpy()\n",
    "\n",
    "plt.imshow(matrix)\n",
    "plt.axis('off')\n",
    "plt.colorbar()"
   ]
  },
  {
   "cell_type": "code",
   "execution_count": 78,
   "metadata": {},
   "outputs": [
    {
     "data": {
      "text/plain": [
       "array([[0.36727107, 0.290403  , 0.34232584],\n",
       "       [0.4683476 , 0.24563067, 0.28602168],\n",
       "       [0.38287362, 0.32714796, 0.28997844]], dtype=float32)"
      ]
     },
     "execution_count": 78,
     "metadata": {},
     "output_type": "execute_result"
    }
   ],
   "source": [
    "mpp.GrangerMatrix.softmax(dim = 1).detach().cpu().numpy()"
   ]
  },
  {
   "cell_type": "code",
   "execution_count": 180,
   "metadata": {},
   "outputs": [
    {
     "data": {
      "text/plain": [
       "167"
      ]
     },
     "execution_count": 180,
     "metadata": {},
     "output_type": "execute_result"
    }
   ],
   "source": [
    "len(processes[1])"
   ]
  },
  {
   "cell_type": "code",
   "execution_count": 101,
   "metadata": {},
   "outputs": [
    {
     "data": {
      "text/plain": [
       "array([[ 0.6786759 , -0.05376524,  0.89782923],\n",
       "       [ 0.8750847 ,  0.10535194,  0.42755637],\n",
       "       [ 0.83915406,  0.14972755,  0.23933211]], dtype=float32)"
      ]
     },
     "execution_count": 101,
     "metadata": {},
     "output_type": "execute_result"
    }
   ],
   "source": [
    "mpp.GrangerMatrix.detach().cpu().numpy()"
   ]
  },
  {
   "cell_type": "code",
   "execution_count": 84,
   "metadata": {},
   "outputs": [
    {
     "data": {
      "image/png": "[encoded data removed]",
      "text/plain": [
       "<Figure size 640x480 with 1 Axes>"
      ]
     },
     "metadata": {},
     "output_type": "display_data"
    }
   ],
   "source": [
    "final = []\n",
    "for proc in range(3):\n",
    "    proc_size = len(processes[proc])\n",
    "    loss_size = len(l[proc])\n",
    "    temp = [ sum(l[proc][i:i + proc_size])/proc_size for i in range(0, loss_size - proc_size, proc_size)]\n",
    "    final.append(temp)\n",
    "\n",
    "colors = ['red', 'green', 'blue']\n",
    "for i in range(3):\n",
    "    plt.plot(final[i], color = colors[i])"
   ]
  },
  {
   "cell_type": "code",
   "execution_count": 158,
   "metadata": {},
   "outputs": [
    {
     "data": {
      "text/plain": [
       "[905.976876769747, 824.3470450299127, 720.2255801473345]"
      ]
     },
     "execution_count": 158,
     "metadata": {},
     "output_type": "execute_result"
    }
   ],
   "source": [
    "temp"
   ]
  },
  {
   "cell_type": "code",
   "execution_count": 74,
   "metadata": {},
   "outputs": [
    {
     "ename": "AttributeError",
     "evalue": "'list' object has no attribute 'argmax'",
     "output_type": "error",
     "traceback": [
      "\u001b[0;31m---------------------------------------------------------------------------\u001b[0m",
      "\u001b[0;31mAttributeError\u001b[0m                            Traceback (most recent call last)",
      "Cell \u001b[0;32mIn[74], line 1\u001b[0m\n\u001b[0;32m----> 1\u001b[0m s \u001b[38;5;241m=\u001b[39m [i\u001b[38;5;241m.\u001b[39margmax()\u001b[38;5;241m.\u001b[39mitem() \u001b[38;5;28;01mfor\u001b[39;00m i \u001b[38;5;129;01min\u001b[39;00m mpp\u001b[38;5;241m.\u001b[39mcauses[\u001b[38;5;241m0\u001b[39m]]\n\u001b[1;32m      2\u001b[0m s \u001b[38;5;241m=\u001b[39m torch\u001b[38;5;241m.\u001b[39mtensor(s)\n\u001b[1;32m      3\u001b[0m s\u001b[38;5;241m.\u001b[39munique(return_counts \u001b[38;5;241m=\u001b[39m \u001b[38;5;28;01mTrue\u001b[39;00m)\n",
      "Cell \u001b[0;32mIn[74], line 1\u001b[0m, in \u001b[0;36m<listcomp>\u001b[0;34m(.0)\u001b[0m\n\u001b[0;32m----> 1\u001b[0m s \u001b[38;5;241m=\u001b[39m [\u001b[43mi\u001b[49m\u001b[38;5;241;43m.\u001b[39;49m\u001b[43margmax\u001b[49m()\u001b[38;5;241m.\u001b[39mitem() \u001b[38;5;28;01mfor\u001b[39;00m i \u001b[38;5;129;01min\u001b[39;00m mpp\u001b[38;5;241m.\u001b[39mcauses[\u001b[38;5;241m0\u001b[39m]]\n\u001b[1;32m      2\u001b[0m s \u001b[38;5;241m=\u001b[39m torch\u001b[38;5;241m.\u001b[39mtensor(s)\n\u001b[1;32m      3\u001b[0m s\u001b[38;5;241m.\u001b[39munique(return_counts \u001b[38;5;241m=\u001b[39m \u001b[38;5;28;01mTrue\u001b[39;00m)\n",
      "\u001b[0;31mAttributeError\u001b[0m: 'list' object has no attribute 'argmax'"
     ]
    }
   ],
   "source": [
    "s = [i.argmax().item() for i in mpp.causes[0]]\n",
    "s = torch.tensor(s)\n",
    "s.unique(return_counts = True)"
   ]
  },
  {
   "cell_type": "code",
   "execution_count": 79,
   "metadata": {},
   "outputs": [
    {
     "data": {
      "text/plain": [
       "(tensor([0, 1, 2]), tensor([112, 125, 112]))"
      ]
     },
     "execution_count": 79,
     "metadata": {},
     "output_type": "execute_result"
    }
   ],
   "source": [
    "causes = []\n",
    "for i in mpp.causes[0]:\n",
    "    for j in i:\n",
    "        causes.append(j.argmax().item())\n",
    "causes = torch.tensor(causes)\n",
    "causes.unique(return_counts = True)"
   ]
  },
  {
   "cell_type": "code",
   "execution_count": null,
   "metadata": {},
   "outputs": [],
   "source": []
  }
 ],
 "metadata": {
  "kernelspec": {
   "display_name": "Python 3 (ipykernel)",
   "language": "python",
   "name": "python3"
  },
  "language_info": {
   "codemirror_mode": {
    "name": "ipython",
    "version": 3
   },
   "file_extension": ".py",
   "mimetype": "text/x-python",
   "name": "python",
   "nbconvert_exporter": "python",
   "pygments_lexer": "ipython3",
   "version": "3.10.14"
  }
 },
 "nbformat": 4,
 "nbformat_minor": 2
}
