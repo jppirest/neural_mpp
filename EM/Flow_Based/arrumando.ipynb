{
 "cells": [
  {
   "cell_type": "code",
   "execution_count": 1,
   "metadata": {},
   "outputs": [],
   "source": [
    "from abc import ABC, abstractmethod\n",
    "import numpy as np\n",
    "import torch.nn as nn\n",
    "import torch"
   ]
  },
  {
   "cell_type": "code",
   "execution_count": 2,
   "metadata": {},
   "outputs": [],
   "source": [
    "class PointProcess(ABC):    \n",
    "    pass"
   ]
  },
  {
   "cell_type": "code",
   "execution_count": null,
   "metadata": {},
   "outputs": [],
   "source": [
    "for t in range(1, n_points):\n",
    "    # X2 is more likely to happen if X1 happened in the previous step\n",
    "    X2[t] = np.random.binomial(1, 0.5 * X1[t-1])\n",
    "    # X3 is more likely to happen if X2 happened in the previous step\n",
    "    X3[t] = np.random.binomial(1, 0.7 * X2[t-1] )"
   ]
  },
  {
   "cell_type": "code",
   "execution_count": 4,
   "metadata": {},
   "outputs": [],
   "source": [
    "class BinomialTriangular(PointProcess):\n",
    "\n",
    "    def __init__(self, num_processes, num_points, base_factor, **kwargs):\n",
    "        \n",
    "        np.random.seed(42)\n",
    "        self.num_processes = num_processes        \n",
    "        self.num_points = num_points    \n",
    "        self.time = np.arange(num_points)\n",
    "        self.processes = []\n",
    "        \n",
    "        process_base = np.random.binomial(1, base_factor, num_points)        \n",
    "        matrix = np.zeros(shape = (num_processes, num_points))\n",
    "        matrix[0, :] = process_base\n",
    "        \n",
    "        influence_rank = kwargs.get('influence_rank')\n",
    "        self.memory_size = 4\n",
    "        \n",
    "        if influence_rank is None:\n",
    "            range_size = 0.5\n",
    "            min_val = 0.49\n",
    "            influence_rank = np.random.rand(self.num_processes - 1)*range_size + min_val\n",
    "        \n",
    "        assert len(influence_rank) == (self.num_processes - 1), 'influence rank length must be equal to the number of processes - 1'\n",
    "        self.influence_rank = influence_rank\n",
    "        \n",
    "        \n",
    "        def _generate_data(matrix):\n",
    "            for t in range(1, self.num_points):\n",
    "                for j in range(1, self.num_processes):\n",
    "                    # assert \n",
    "                    matrix[j, t] = np.random.binomial(1, self.influence_rank[j-1]*matrix[j-1, t])\n",
    "            return matrix\n",
    "        \n",
    "        self.matrix = _generate_data(matrix)\n",
    "        \n",
    "        def _turn_into_time(matrix):\n",
    "            thold = 0.2\n",
    "            matrix_times = []\n",
    "            for j in range(0, self.num_processes):\n",
    "                matrix_times.append([self.time[i] + thold for i in range(self.num_points) if matrix[j, i] > 0 ])\n",
    "            return matrix_times\n",
    "        \n",
    "        self.matrix_times = _turn_into_time(self.matrix)\n",
    "            \n",
    "\n",
    "        self.memory_size = 4\n",
    "        \n",
    "        def _timestamp_of_start(matrix_times):\n",
    "            \n",
    "            timestamps_of_influence_begin = []\n",
    "            for i in range(self.num_processes):\n",
    "                timestamps_of_influence_begin.append(self.matrix_times[i][self.memory_size])\n",
    "            \n",
    "            return timestamps_of_influence_begin\n",
    "        \n",
    "        self.timestamps_of_influence_begin = _timestamp_of_start(self.matrix_times)\n",
    "\n",
    "\n",
    "        def _make_sweep_dict(matrix_times):\n",
    "            def _sweep(self, pa, pc):\n",
    "                events = []\n",
    "                pa_indices = []\n",
    "\n",
    "\n",
    "                for i, ia in enumerate(pa):\n",
    "                    events.append((ia, 'a'))\n",
    "                    pa_indices.append(i)\n",
    "\n",
    "                for ic in pc:\n",
    "                    events.append((ic, 'c'))\n",
    "\n",
    "                lim = self.memory_dim\n",
    "\n",
    "                events.sort()\n",
    "                mem = []\n",
    "                ret = []\n",
    "                index_start = False\n",
    "\n",
    "                pa_idx_counter = 0  \n",
    "\n",
    "                for t, e in events:\n",
    "                    if e == 'c':\n",
    "                        if len(mem) >= lim:\n",
    "                            mem.pop(0)\n",
    "                        mem.append(t)\n",
    "\n",
    "                    if e == 'a':\n",
    "                        \n",
    "                        if len(mem) < lim:\n",
    "                            pa_idx_counter += 1  \n",
    "                            continue\n",
    "                        \n",
    "                        pp = [t - tc for tc in mem]\n",
    "                        ret.append(pp)\n",
    "                        if not index_start:\n",
    "                            index_start = pa_indices[pa_idx_counter] \n",
    "                            pa_idx_counter += 1 \n",
    "                \n",
    "                if not index_start:\n",
    "                    index_start = -1\n",
    "                \n",
    "                return torch.tensor(ret, dtype=torch.float), index_start\n",
    "                \n",
    "    \n",
    "    def get_events(self, num_events, idx_start, idx_process_base):\n",
    "\n",
    "        curr_process = self.matrix_times[idx_process_base]\n",
    "        ret = []\n",
    "        for i in range(idx_start, idx_start + num_events):\n",
    "            curr_time = curr_process[i]\n",
    "            for j in range(self.num_processes):\n",
    "                if curr_time >= self.timestamps_of_influence_begin[j] and curr_time <= self.matrix_times[j][-1]: ## check if at this timestamp, \n",
    "                    # app the sweep dict of this process\n",
    "                    ret.append((0.3, j))\n",
    "                else:\n",
    "                    continue\n",
    "                    # process can not cause this one.\n",
    "        return ret\n",
    "\n",
    "\n",
    "\n",
    "            \n",
    "\n",
    "            "
   ]
  },
  {
   "cell_type": "code",
   "execution_count": 114,
   "metadata": {},
   "outputs": [
    {
     "data": {
      "text/plain": [
       "1"
      ]
     },
     "execution_count": 114,
     "metadata": {},
     "output_type": "execute_result"
    }
   ],
   "source": [
    "class GetEvents:\n",
    "\n",
    "    def __init__(self):\n",
    "        pass\n",
    "\n",
    "    def get(self, sweep_dict, idx_start)"
   ]
  },
  {
   "cell_type": "code",
   "execution_count": 5,
   "metadata": {},
   "outputs": [],
   "source": [
    "teste = BinomialTriangular(num_processes=3, num_points = 1200, base_factor=0.6)"
   ]
  },
  {
   "cell_type": "code",
   "execution_count": 98,
   "metadata": {},
   "outputs": [
    {
     "data": {
      "text/plain": [
       "[(0.3, 0), (0.3, 0), (0.3, 1)]"
      ]
     },
     "execution_count": 98,
     "metadata": {},
     "output_type": "execute_result"
    }
   ],
   "source": [
    "teste.get_events(num_events=2, idx_start = 5, idx_process_base = 0)"
   ]
  },
  {
   "cell_type": "code",
   "execution_count": 116,
   "metadata": {},
   "outputs": [
    {
     "data": {
      "text/plain": [
       "tensor([[2.1707e-18, 7.0952e+22],\n",
       "        [1.7748e+28, 1.8176e+31],\n",
       "        [7.2708e+31, 5.0778e+31],\n",
       "        [3.2608e-12, 1.7728e+28],\n",
       "        [7.0367e+22, 2.1715e-18],\n",
       "        [3.3381e-09, 2.6394e-09],\n",
       "        [8.4030e+20, 6.5548e-10],\n",
       "        [1.9969e+20, 1.0368e-11],\n",
       "        [2.0547e+20, 2.0317e+20],\n",
       "        [4.3010e-05, 2.1707e-18]])"
      ]
     },
     "execution_count": 116,
     "metadata": {},
     "output_type": "execute_result"
    }
   ],
   "source": [
    "torch.empty(size = (10,2))"
   ]
  },
  {
   "cell_type": "code",
   "execution_count": 118,
   "metadata": {},
   "outputs": [],
   "source": [
    "X1 = np.random.binomial(1, 0.6, 20)\n",
    "X2 = np.zeros(20)\n",
    "X3 = np.zeros(20)\n",
    "time = np.arange(20)\n",
    "\n",
    "for t in range(1, 20):\n",
    "    # X2 is more likely to happen if X1 happened in the previous step\n",
    "    X2[t] = np.random.binomial(1, 0.5 * X1[t-1] + 0.2)\n",
    "    # X3 is more likely to happen if X2 happened in the previous step\n",
    "    X3[t] = np.random.binomial(1, 0.7 * X2[t-1] + 0.2)\n",
    "\n",
    "\n",
    "\n",
    "X1 = [time[i] for i in range(len(X1)) if X1[i] > 0]\n",
    "X2 = [time[i] + 0.1 for i in range(len(X2)) if X2[i] > 0]\n",
    "X3 = [time[i] + 0.2 for i in range(len(X3)) if X3[i] > 0]\n",
    "\n",
    "def _sweep(pa, pc):\n",
    "    events = []\n",
    "    pa_indices = []\n",
    "\n",
    "\n",
    "    for i, ia in enumerate(pa):\n",
    "        events.append((ia, 'a'))\n",
    "        pa_indices.append(i)\n",
    "\n",
    "    for ic in pc:\n",
    "        events.append((ic, 'c'))\n",
    "\n",
    "    lim = 4\n",
    "\n",
    "    events.sort()\n",
    "    mem = []\n",
    "    ret = []\n",
    "    index_start = False\n",
    "    ret_ = torch.empty(size = (10,4))\n",
    "    pa_idx_counter = 0  \n",
    "\n",
    "    for t, e in events:\n",
    "        if e == 'c':\n",
    "            if len(mem) >= lim:\n",
    "                mem.pop(0)\n",
    "            mem.append(t)\n",
    "            ret.append([-1, -1, -1, -1])\n",
    "            \n",
    "\n",
    "        if e == 'a':\n",
    "            \n",
    "            if len(mem) < lim:\n",
    "                pa_idx_counter += 1  \n",
    "                continue\n",
    "            \n",
    "            pp = [t - tc for tc in mem]\n",
    "            ret.append(pp)\n",
    "            if not index_start:\n",
    "                index_start = pa_indices[pa_idx_counter] \n",
    "                pa_idx_counter += 1 \n",
    "    \n",
    "    if not index_start:\n",
    "        index_start = -1\n",
    "    \n",
    "    return torch.tensor(ret, dtype=torch.float), index_start"
   ]
  },
  {
   "cell_type": "code",
   "execution_count": 119,
   "metadata": {},
   "outputs": [
    {
     "data": {
      "text/plain": [
       "(tensor([[-1.0000, -1.0000, -1.0000, -1.0000],\n",
       "         [-1.0000, -1.0000, -1.0000, -1.0000],\n",
       "         [-1.0000, -1.0000, -1.0000, -1.0000],\n",
       "         [-1.0000, -1.0000, -1.0000, -1.0000],\n",
       "         [ 7.9000,  6.9000,  3.9000,  1.9000],\n",
       "         [ 8.9000,  7.9000,  4.9000,  2.9000],\n",
       "         [-1.0000, -1.0000, -1.0000, -1.0000],\n",
       "         [ 8.9000,  5.9000,  3.9000,  0.9000],\n",
       "         [10.9000,  7.9000,  5.9000,  2.9000],\n",
       "         [-1.0000, -1.0000, -1.0000, -1.0000],\n",
       "         [ 9.9000,  7.9000,  4.9000,  0.9000],\n",
       "         [12.9000, 10.9000,  7.9000,  3.9000],\n",
       "         [13.9000, 11.9000,  8.9000,  4.9000],\n",
       "         [-1.0000, -1.0000, -1.0000, -1.0000]]),\n",
       " 3)"
      ]
     },
     "execution_count": 119,
     "metadata": {},
     "output_type": "execute_result"
    }
   ],
   "source": [
    "_sweep(X1,X2)"
   ]
  },
  {
   "cell_type": "code",
   "execution_count": 83,
   "metadata": {},
   "outputs": [
    {
     "data": {
      "image/png": "[encoded data removed]",
      "text/plain": [
       "<Figure size 640x480 with 10 Axes>"
      ]
     },
     "metadata": {},
     "output_type": "display_data"
    }
   ],
   "source": [
    "teste = BinomialTriangular(num_processes=10, num_points = 1200, base_factor=0.9)\n",
    "\n",
    "import matplotlib.pyplot as plt \n",
    "\n",
    "def _plot_tick_bars(timestamps_i, ax, color):\n",
    "    for t in timestamps_i:\n",
    "        ax.axvline(x=t, color = color)\n",
    "    # ax.set_title(label, fontsize=20)\n",
    "    ax.get_yaxis().set_visible(False)\n",
    "def _plot_tick_bars_causes(timestamps_i, ax, cause):\n",
    "    colors = ['red', 'green', 'blue']\n",
    "    for idx, t in enumerate(timestamps_i):\n",
    "        cause_ = torch.argmax(cause[idx]).item()\n",
    "        ax.axvline(x=t, color = colors[cause_])\n",
    "    ax.get_yaxis().set_visible(False)\n",
    "\n",
    "fig, ax = plt.subplots(nrows = 10, sharex = True)\n",
    "\n",
    "for i in range(10):\n",
    "    _plot_tick_bars(teste.matrix_times[i], ax[i], color = 'red')\n",
    "# _plot_tick_bars(teste.matrix_times[1], ax[1], color = 'green')\n",
    "# _plot_tick_bars(teste.matrix_times[2], ax[2], color = 'blue')"
   ]
  },
  {
   "cell_type": "code",
   "execution_count": 81,
   "metadata": {},
   "outputs": [
    {
     "data": {
      "text/plain": [
       "array([0.8691316 , 0.50229346, 0.50106178, 0.65180511, 0.7343216 ,\n",
       "       0.87520371, 0.83164769, 0.71295135, 0.62681333])"
      ]
     },
     "execution_count": 81,
     "metadata": {},
     "output_type": "execute_result"
    }
   ],
   "source": [
    "teste.influence_rank"
   ]
  },
  {
   "cell_type": "code",
   "execution_count": null,
   "metadata": {},
   "outputs": [],
   "source": []
  }
 ],
 "metadata": {
  "kernelspec": {
   "display_name": "Python 3 (ipykernel)",
   "language": "python",
   "name": "python3"
  },
  "language_info": {
   "codemirror_mode": {
    "name": "ipython",
    "version": 3
   },
   "file_extension": ".py",
   "mimetype": "text/x-python",
   "name": "python",
   "nbconvert_exporter": "python",
   "pygments_lexer": "ipython3",
   "version": "3.10.14"
  }
 },
 "nbformat": 4,
 "nbformat_minor": 4
}
